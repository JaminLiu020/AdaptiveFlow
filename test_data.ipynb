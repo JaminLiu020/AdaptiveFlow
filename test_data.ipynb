{
 "cells": [
  {
   "cell_type": "code",
   "execution_count": 87,
   "metadata": {},
   "outputs": [
    {
     "name": "stderr",
     "output_type": "stream",
     "text": [
      "/Users/dominikklein/miniforge3/envs/cfp/lib/python3.11/site-packages/anndata/_core/aligned_df.py:67: ImplicitModificationWarning: Transforming to str index.\n",
      "  warnings.warn(\"Transforming to str index.\", ImplicitModificationWarning)\n"
     ]
    }
   ],
   "source": [
    "import anndata\n",
    "import numpy as np\n",
    "import pandas as pd\n",
    "\n",
    "n_obs = 500\n",
    "n_vars = 50\n",
    "n_pca = 10\n",
    "\n",
    "X_data = np.random.rand(n_obs, n_vars)\n",
    "\n",
    "my_counts = np.random.rand(n_obs, n_vars)\n",
    "\n",
    "X_pca = np.random.rand(n_obs, n_pca)\n",
    "\n",
    "cell_lines = np.random.choice([\"cell_line_a\", \"cell_line_b\", \"cell_line_c\"], n_obs)\n",
    "dosages = np.random.choice([10.0, 100.0, 1000.0], n_obs)\n",
    "drugs = [\"drug_a\", \"drug_b\", \"drug_c\"]\n",
    "drug1 = np.random.choice(drugs, n_obs)\n",
    "drug2 = np.random.choice(drugs, n_obs)\n",
    "drug3 = np.random.choice(drugs, n_obs)\n",
    "\n",
    "\n",
    "obs_data = pd.DataFrame({\"cell_type\": cell_lines, \"dosage\": dosages, \"drug1\": drug1, \"drug2\": drug2, \"drug3\": drug3})\n",
    "\n",
    "# Create an AnnData object\n",
    "adata = anndata.AnnData(X=X_data, obs=obs_data)\n",
    "\n",
    "adata.uns[\"cell_flow_conditions\"] = {}\n",
    "\n",
    "# Add the random data to .layers and .obsm\n",
    "adata.layers[\"my_counts\"] = my_counts\n",
    "adata.obsm[\"X_pca\"] = X_pca\n",
    "\n",
    "\n",
    "control_idcs = np.random.choice(n_obs, n_obs // 10, replace=False)\n",
    "for col in [\"drug1\", \"drug2\", \"drug3\"]:\n",
    "    adata.obs.loc[[str(idx) for idx in control_idcs], col] = \"control\"\n",
    "\n",
    "\n",
    "for col in adata.obs.columns:\n",
    "    adata.obs[col] = adata.obs[col].astype(\"category\")\n",
    "\n",
    "drug_emb = {}\n",
    "for drug in adata.obs[\"drug1\"].cat.categories:\n",
    "    drug_emb[drug] = np.random.randn(5, 1)\n",
    "adata.uns[UNS_KEY_CONDITIONS][\"drug\"] = drug_emb\n",
    "\n",
    "for drug in adata.obs[\"cell_type\"].cat.categories:\n",
    "    drug_emb[drug] = np.random.randn(3, 1)\n",
    "adata.uns[UNS_KEY_CONDITIONS][\"cell_type\"] = drug_emb"
   ]
  },
  {
   "cell_type": "code",
   "execution_count": 94,
   "metadata": {},
   "outputs": [],
   "source": [
    "import itertools\n",
    "from collections.abc import Callable, Sequence\n",
    "from dataclasses import dataclass\n",
    "from typing import Any, Literal\n",
    "\n",
    "import anndata\n",
    "import jax\n",
    "import jax.numpy as jnp\n",
    "import numpy as np\n",
    "import pandas as pd\n",
    "import scipy.sparse as sp\n",
    "from tqdm import tqdm\n",
    "\n",
    "from cfp._constants import CONTROL_HELPER, UNS_KEY_CONDITIONS\n",
    "\n",
    "\n",
    "@dataclass\n",
    "class PerturbationData:\n",
    "    cell_data: jax.Array  # (n_cells, n_features)\n",
    "    split_covariates_mask: jax.Array  # (n_cells,), which cell assigned to which source distribution\n",
    "    split_covariates_to_idx: dict[str, int]  # (n_sources,) dictionary explaining split_covariates_mask\n",
    "    perturbation_covariates_mask: jax.Array  # (n_cells,), which cell assigned to which target distribution\n",
    "    perturbation_covariates_to_idx: dict[str, int]  # (n_targets,), dictionary explaining perturbation_covariates_mask\n",
    "    condition_data: jax.Array  # (n_targets,) all embeddings for conditions\n",
    "    control_to_perturbation: dict[int, jax.Array]  # mapping from control idx to target distribution idcs\n",
    "\n",
    "    @property\n",
    "    def n_controls(self) -> int:\n",
    "        \"\"\"Returns the number of control covariate values.\"\"\"\n",
    "        return len(self.split_covariates_to_idx)\n",
    "\n",
    "    @property\n",
    "    def n_perturbed(self) -> int:\n",
    "        \"\"\"Returns the number of perturbation covariate combinations.\"\"\"\n",
    "        return len(self.perturbation_covariates_to_idx)\n",
    "\n",
    "    def _format_params(self, fmt: Callable[[Any], str]) -> str:\n",
    "        params = {\"n_controls\": self.n_controls, \"n_perturbed\": self.n_perturbed}\n",
    "        return \", \".join(f\"{name}={fmt(val)}\" for name, val in params.items())\n",
    "\n",
    "    def __repr__(self) -> str:\n",
    "        return f\"{self.__class__.__name__}[{self._format_params(repr)}]\"\n",
    "\n",
    "\n",
    "def _get_cell_data(adata: anndata.AnnData, cell_data: Literal[\"X\"] | dict[str, str]) -> jax.Array:\n",
    "    if cell_data == \"X\":\n",
    "        cell_data = adata.X\n",
    "        if isinstance(cell_data, sp.csr_matrix):\n",
    "            cell_data = jnp.asarray(cell_data.toarray())\n",
    "        else:\n",
    "            cell_data = jnp.asarray(cell_data)\n",
    "    else:\n",
    "        assert isinstance(cell_data, dict)\n",
    "        assert \"attr\" in cell_data\n",
    "        assert \"key\" in cell_data\n",
    "        cell_data = jnp.asarray(getattr(adata, cell_data[\"attr\"])[cell_data[\"key\"]])\n",
    "    return cell_data\n",
    "\n",
    "\n",
    "def _verify_control_data(adata: anndata.AnnData, data: tuple[str, Any]):\n",
    "    assert isinstance(data, tuple)\n",
    "    assert len(data) == 2\n",
    "    if data[0] not in adata.obs:\n",
    "        raise ValueError(f\"Control column {data[0]} not found in adata.obs.\")\n",
    "    assert data[0] in adata.obs\n",
    "    assert isinstance(adata.obs[data[0]].dtype, pd.CategoricalDtype)\n",
    "    if data[1] not in adata.obs[data[0]].cat.categories:\n",
    "        raise ValueError(f\"Control value {data[1]} not found in {data[0]}.\")\n",
    "\n",
    "\n",
    "def _check_shape(arr: float | np.ndarray) -> np.ndarray:\n",
    "    if not hasattr(arr, \"shape\") or len(arr.shape) == 0:\n",
    "        return np.ones((1, 1)) * arr\n",
    "\n",
    "    if arr.ndim == 1:\n",
    "        return arr[:, None]\n",
    "    elif arr.ndim == 2:\n",
    "        if arr.shape[0] == 1:\n",
    "            return arr\n",
    "        if arr.shape[1] == 1:\n",
    "            return np.transpose(arr)\n",
    "        raise ValueError(\"TODO, wrong shape.\")\n",
    "    elif arr.ndim > 2:\n",
    "        raise ValueError(\"TODO. Too many dimensions.\")\n",
    "\n",
    "    raise ValueError(\"TODO. wrong data for embedding.\")\n",
    "\n",
    "\n",
    "def _get_perturbation_covariates(\n",
    "    adata: anndata.AnnData,\n",
    "    embedding_dict: dict[str, dict[str, np.ndarray]],\n",
    "    obs_perturbation_covariates: Any,\n",
    "    uns_perturbation_covariates: Any,\n",
    "    max_combination_length: int,\n",
    ") -> jax.Array:\n",
    "    embeddings_no_combination = []\n",
    "    embeddings_combinations = []\n",
    "    for obs_group in obs_perturbation_covariates:\n",
    "        obs_group_emb = []\n",
    "        for obs_col in obs_group:\n",
    "            values = list(adata.obs[obs_col].unique())\n",
    "            if len(values) != 1:\n",
    "                raise ValueError(\"Too many categories within distribution found\")\n",
    "            arr = jnp.asarray(adata.obs[obs_col].values[0])\n",
    "            arr = _check_shape(arr)\n",
    "            obs_group_emb.append(arr)\n",
    "        if len(obs_group) == 1:\n",
    "            embeddings_no_combination.append(obs_group_emb[0])\n",
    "        else:\n",
    "            embeddings_combinations.append(jnp.concatenate(obs_group_emb, axis=0))\n",
    "\n",
    "    for uns_key, uns_group in uns_perturbation_covariates.items():\n",
    "        uns_group_emb = []\n",
    "        for obs_col in uns_group:\n",
    "            values = list(adata.obs[obs_col].unique())\n",
    "            if len(values) != 1:\n",
    "                raise ValueError(\"Too many categories within distribution found\")\n",
    "            assert uns_key in embedding_dict\n",
    "            assert isinstance(adata.uns[UNS_KEY_CONDITIONS][uns_key], dict)\n",
    "            assert values[0] in embedding_dict[uns_key]\n",
    "            arr = jnp.asarray(embedding_dict[uns_key][values[0]])\n",
    "            arr = _check_shape(arr)\n",
    "            uns_group_emb.append(arr)\n",
    "        if len(uns_group) == 1:\n",
    "            embeddings_no_combination.append(uns_group_emb[0])\n",
    "        else:\n",
    "            embeddings_combinations.append(jnp.concatenate(uns_group_emb, axis=0))\n",
    "\n",
    "    conds_no_combination = jnp.tile(jnp.concatenate(embeddings_no_combination, axis=-1), (1, max_combination_length, 1))\n",
    "\n",
    "    to_concat = []\n",
    "    if len(conds_no_combination) > 0:\n",
    "        to_concat.append(conds_no_combination)\n",
    "    if len(embeddings_combinations) > 0:\n",
    "        to_concat.append(jnp.array(embeddings_combinations))\n",
    "    conds = jnp.concatenate(to_concat, axis=-1)\n",
    "    return conds\n",
    "\n",
    "\n",
    "def load_from_adata(\n",
    "    adata: anndata.AnnData,\n",
    "    cell_data: Literal[\"X\"] | dict[str, str],\n",
    "    control_data: tuple[str, Any],\n",
    "    split_covariates: Sequence[str],\n",
    "    obs_perturbation_covariates: Sequence[tuple[str, ...]],\n",
    "    uns_perturbation_covariates: Sequence[dict[str, tuple[str, ...]]],\n",
    ") -> PerturbationData:\n",
    "    \"\"\"Load cell data from an AnnData object.\n",
    "\n",
    "    Args:\n",
    "        adata: An :class:`~anndata.AnnData` object.\n",
    "        cell_data: Where to read the cell data from. If of type :class:`dict`, the key\n",
    "            \"attr\" should be present and the value should be an attribute of :class:`~anndata.AnnData`.\n",
    "            The key `key` should be present and the value should be the key in the respective attribute\n",
    "        control_data: Tuple of length 2 with first element defining the column in :class:`~anndata.AnnData`\n",
    "          and second element defining the value in `adata.obs[control_data[0]]` used to define all control cells.\n",
    "        split_covariates: Covariates in adata.obs to split all control cells into different control populations.\n",
    "          The perturbed cells are also split according to these columns, but if an embedding for these covariates\n",
    "          should be encoded in the model, the corresponding column should also be used in `obs_perturbation_covariates`\n",
    "          or `uns_perturbation_covariates`.\n",
    "        obs_perturbation_covariates: Tuples of covariates in adata.obs characterizing the perturbed cells (together\n",
    "          with `split_covariates` and `uns_perturbation_covariates`) and encoded by the values as found in `adata.obs`. If a tuple contains more than\n",
    "          one element, this is interpreted as a combination of covariates that should be treated as an unordered set.\n",
    "        uns_perturbation_covariates: Dictionaries with keys in adata.uns[`UNS_KEY_CONDITION`] and values columns in adata.obs which characterize the perturbed cells (together\n",
    "            with `split_covariates` and `obs_perturbation_covariates`) and encoded by the values as found in `adata.uns[`UNS_KEY_CONDITION`][uns_perturbation_covariates.keys()]`.\n",
    "            If a value of the dictionary is a tuple with more than one element, this is interpreted as a combination of covariates that should be treated as an unordered set.\n",
    "\n",
    "    Returns\n",
    "    -------\n",
    "        PerturbationData: Data container for the perturbation data.\n",
    "    \"\"\"\n",
    "    # TODO(@MUCDK): add device to possibly only load to cpu\n",
    "    if split_covariates is None or len(split_covariates) == 0:\n",
    "        adata.obs[CONTROL_HELPER] = True\n",
    "        adata.obs[CONTROL_HELPER] = adata.obs[CONTROL_HELPER].astype(\"category\")\n",
    "        split_covariates = [CONTROL_HELPER]\n",
    "    _verify_control_data(adata, control_data)\n",
    "\n",
    "    obs_combination_length = max(len(comb) for comb in obs_perturbation_covariates)\n",
    "    uns_combination_length = max(len(comb) for comb in uns_perturbation_covariates.values())\n",
    "    max_combination_length = max(obs_combination_length, uns_combination_length)\n",
    "\n",
    "    if UNS_KEY_CONDITIONS not in adata.uns:\n",
    "        adata.uns[UNS_KEY_CONDITIONS] = {}\n",
    "\n",
    "    for covariate in split_covariates:\n",
    "        assert covariate in adata.obs\n",
    "        assert adata.obs[covariate].dtype.name == \"category\"\n",
    "\n",
    "    src_dist = {covariate: adata.obs[covariate].cat.categories for covariate in split_covariates}\n",
    "    tgt_dist_obs = {\n",
    "        covariate: adata.obs[covariate].cat.categories for group in obs_perturbation_covariates for covariate in group\n",
    "    }\n",
    "    tgt_dist_uns = {\n",
    "        covariate: adata.obs[covariate].cat.categories\n",
    "        for emb_covariates in uns_perturbation_covariates.values()\n",
    "        for covariate in emb_covariates\n",
    "    }\n",
    "    tgt_dist_obs.update(tgt_dist_uns)\n",
    "    src_counter = 0\n",
    "    tgt_counter = 0\n",
    "    src_dists = list(itertools.product(*src_dist.values()))\n",
    "\n",
    "    control_to_perturbation = {}\n",
    "    cell_data = _get_cell_data(adata, cell_data)\n",
    "    split_covariates_mask = np.full((adata.n_obs,), -1, dtype=jnp.int32)\n",
    "    split_covariates_to_idx = {}\n",
    "    perturbation_covariates_mask = np.full((adata.n_obs,), -1, dtype=jnp.int32)\n",
    "    perturbation_covariates_to_idx = {}\n",
    "    condition_data = []\n",
    "\n",
    "    control_mask = (adata.obs[control_data[0]] == control_data[1]) == 1\n",
    "    for src_combination in tqdm(src_dists):\n",
    "        filter_dict = dict(zip(split_covariates, src_combination, strict=False))\n",
    "        split_cov_mask = (adata.obs[list(filter_dict.keys())] == list(filter_dict.values())).all(axis=1)\n",
    "        mask = split_cov_mask * control_mask\n",
    "        if mask.sum() == 0:\n",
    "            continue\n",
    "        control_to_perturbation[src_counter] = []\n",
    "        split_covariates_mask[mask] = src_counter\n",
    "        split_covariates_to_idx[src_counter] = src_combination\n",
    "\n",
    "        conditional_distributions = []\n",
    "        for tgt_combination in itertools.product(*tgt_dist_obs.values()):\n",
    "            mask = (\n",
    "                (adata.obs[list(tgt_dist_obs.keys())] == list(tgt_combination)).all(axis=1)\n",
    "                * (1 - control_mask)\n",
    "                * split_cov_mask\n",
    "            ) == 1\n",
    "            if mask.sum() == 0:\n",
    "                continue\n",
    "            conditional_distributions.append(tgt_counter)\n",
    "            perturbation_covariates_mask[mask] = tgt_counter\n",
    "            perturbation_covariates_to_idx[tgt_counter] = tgt_combination\n",
    "            control_to_perturbation[src_counter] = tgt_counter\n",
    "            embedding = _get_perturbation_covariates(\n",
    "                adata[mask],\n",
    "                adata.uns[UNS_KEY_CONDITIONS],\n",
    "                obs_perturbation_covariates,\n",
    "                uns_perturbation_covariates,\n",
    "                max_combination_length,\n",
    "            )\n",
    "            condition_data.append(embedding)\n",
    "            tgt_counter += 1\n",
    "        control_to_perturbation[src_counter] = np.array(conditional_distributions)\n",
    "        src_counter += 1\n",
    "    condition_data = jnp.array(condition_data)\n",
    "\n",
    "    return PerturbationData(\n",
    "        cell_data=cell_data,\n",
    "        split_covariates_mask=split_covariates_mask,\n",
    "        split_covariates_to_idx=split_covariates_to_idx,\n",
    "        perturbation_covariates_mask=perturbation_covariates_mask,\n",
    "        perturbation_covariates_to_idx=perturbation_covariates_to_idx,\n",
    "        condition_data=condition_data,\n",
    "        control_to_perturbation=control_to_perturbation,\n",
    "    )"
   ]
  },
  {
   "cell_type": "code",
   "execution_count": 95,
   "metadata": {},
   "outputs": [],
   "source": [
    "split_covariates = [\"cell_type\"]\n",
    "control_data = (\"drug1\", \"control\")\n",
    "obs_perturbation_covariates = [(\"dosage\",)]\n",
    "uns_perturbation_covariates = {\"drug\": (\"drug1\", \"drug2\")}"
   ]
  },
  {
   "cell_type": "code",
   "execution_count": 96,
   "metadata": {},
   "outputs": [
    {
     "name": "stderr",
     "output_type": "stream",
     "text": [
      "100%|██████████| 3/3 [00:00<00:00, 19.28it/s]\n"
     ]
    }
   ],
   "source": [
    "pdata = load_from_adata(\n",
    "    adata,\n",
    "    cell_data=\"X\",\n",
    "    control_data=control_data,\n",
    "    split_covariates=split_covariates,\n",
    "    obs_perturbation_covariates=obs_perturbation_covariates,\n",
    "    uns_perturbation_covariates=uns_perturbation_covariates,\n",
    ")"
   ]
  },
  {
   "cell_type": "code",
   "execution_count": 97,
   "metadata": {},
   "outputs": [
    {
     "data": {
      "text/plain": [
       "Index(['control', 'drug_a', 'drug_b', 'drug_c'], dtype='object')"
      ]
     },
     "execution_count": 97,
     "metadata": {},
     "output_type": "execute_result"
    }
   ],
   "source": [
    "adata.obs[\"drug1\"].cat.categories"
   ]
  },
  {
   "cell_type": "code",
   "execution_count": 98,
   "metadata": {},
   "outputs": [
    {
     "data": {
      "text/plain": [
       "PerturbationData[n_controls=3, n_perturbed=81]"
      ]
     },
     "execution_count": 98,
     "metadata": {},
     "output_type": "execute_result"
    }
   ],
   "source": [
    "pdata"
   ]
  },
  {
   "cell_type": "code",
   "execution_count": 106,
   "metadata": {},
   "outputs": [
    {
     "data": {
      "text/plain": [
       "(1, 2, 6)"
      ]
     },
     "execution_count": 106,
     "metadata": {},
     "output_type": "execute_result"
    }
   ],
   "source": [
    "pdata.condition_data[0].shape"
   ]
  },
  {
   "cell_type": "code",
   "execution_count": 99,
   "metadata": {},
   "outputs": [
    {
     "data": {
      "text/plain": [
       "array([-1,  0,  1,  2,  3,  4,  5,  6,  7,  8,  9, 10, 11, 12, 13, 14, 15,\n",
       "       16, 17, 18, 19, 20, 21, 22, 23, 24, 25, 26, 27, 28, 29, 30, 31, 32,\n",
       "       33, 34, 35, 36, 37, 38, 39, 40, 41, 42, 43, 44, 45, 46, 47, 48, 49,\n",
       "       50, 51, 52, 53, 54, 55, 56, 57, 58, 59, 60, 61, 62, 63, 64, 65, 66,\n",
       "       67, 68, 69, 70, 71, 72, 73, 74, 75, 76, 77, 78, 79, 80],\n",
       "      dtype=int32)"
      ]
     },
     "execution_count": 99,
     "metadata": {},
     "output_type": "execute_result"
    }
   ],
   "source": [
    "np.unique(pdata.perturbation_covariates_mask)"
   ]
  },
  {
   "cell_type": "code",
   "execution_count": 100,
   "metadata": {},
   "outputs": [
    {
     "data": {
      "text/plain": [
       "{0: (10.0, 'drug_a', 'drug_a'),\n",
       " 1: (10.0, 'drug_a', 'drug_b'),\n",
       " 2: (10.0, 'drug_a', 'drug_c'),\n",
       " 3: (10.0, 'drug_b', 'drug_a'),\n",
       " 4: (10.0, 'drug_b', 'drug_b'),\n",
       " 5: (10.0, 'drug_b', 'drug_c'),\n",
       " 6: (10.0, 'drug_c', 'drug_a'),\n",
       " 7: (10.0, 'drug_c', 'drug_b'),\n",
       " 8: (10.0, 'drug_c', 'drug_c'),\n",
       " 9: (100.0, 'drug_a', 'drug_a'),\n",
       " 10: (100.0, 'drug_a', 'drug_b'),\n",
       " 11: (100.0, 'drug_a', 'drug_c'),\n",
       " 12: (100.0, 'drug_b', 'drug_a'),\n",
       " 13: (100.0, 'drug_b', 'drug_b'),\n",
       " 14: (100.0, 'drug_b', 'drug_c'),\n",
       " 15: (100.0, 'drug_c', 'drug_a'),\n",
       " 16: (100.0, 'drug_c', 'drug_b'),\n",
       " 17: (100.0, 'drug_c', 'drug_c'),\n",
       " 18: (1000.0, 'drug_a', 'drug_a'),\n",
       " 19: (1000.0, 'drug_a', 'drug_b'),\n",
       " 20: (1000.0, 'drug_a', 'drug_c'),\n",
       " 21: (1000.0, 'drug_b', 'drug_a'),\n",
       " 22: (1000.0, 'drug_b', 'drug_b'),\n",
       " 23: (1000.0, 'drug_b', 'drug_c'),\n",
       " 24: (1000.0, 'drug_c', 'drug_a'),\n",
       " 25: (1000.0, 'drug_c', 'drug_b'),\n",
       " 26: (1000.0, 'drug_c', 'drug_c'),\n",
       " 27: (10.0, 'drug_a', 'drug_a'),\n",
       " 28: (10.0, 'drug_a', 'drug_b'),\n",
       " 29: (10.0, 'drug_a', 'drug_c'),\n",
       " 30: (10.0, 'drug_b', 'drug_a'),\n",
       " 31: (10.0, 'drug_b', 'drug_b'),\n",
       " 32: (10.0, 'drug_b', 'drug_c'),\n",
       " 33: (10.0, 'drug_c', 'drug_a'),\n",
       " 34: (10.0, 'drug_c', 'drug_b'),\n",
       " 35: (10.0, 'drug_c', 'drug_c'),\n",
       " 36: (100.0, 'drug_a', 'drug_a'),\n",
       " 37: (100.0, 'drug_a', 'drug_b'),\n",
       " 38: (100.0, 'drug_a', 'drug_c'),\n",
       " 39: (100.0, 'drug_b', 'drug_a'),\n",
       " 40: (100.0, 'drug_b', 'drug_b'),\n",
       " 41: (100.0, 'drug_b', 'drug_c'),\n",
       " 42: (100.0, 'drug_c', 'drug_a'),\n",
       " 43: (100.0, 'drug_c', 'drug_b'),\n",
       " 44: (100.0, 'drug_c', 'drug_c'),\n",
       " 45: (1000.0, 'drug_a', 'drug_a'),\n",
       " 46: (1000.0, 'drug_a', 'drug_b'),\n",
       " 47: (1000.0, 'drug_a', 'drug_c'),\n",
       " 48: (1000.0, 'drug_b', 'drug_a'),\n",
       " 49: (1000.0, 'drug_b', 'drug_b'),\n",
       " 50: (1000.0, 'drug_b', 'drug_c'),\n",
       " 51: (1000.0, 'drug_c', 'drug_a'),\n",
       " 52: (1000.0, 'drug_c', 'drug_b'),\n",
       " 53: (1000.0, 'drug_c', 'drug_c'),\n",
       " 54: (10.0, 'drug_a', 'drug_a'),\n",
       " 55: (10.0, 'drug_a', 'drug_b'),\n",
       " 56: (10.0, 'drug_a', 'drug_c'),\n",
       " 57: (10.0, 'drug_b', 'drug_a'),\n",
       " 58: (10.0, 'drug_b', 'drug_b'),\n",
       " 59: (10.0, 'drug_b', 'drug_c'),\n",
       " 60: (10.0, 'drug_c', 'drug_a'),\n",
       " 61: (10.0, 'drug_c', 'drug_b'),\n",
       " 62: (10.0, 'drug_c', 'drug_c'),\n",
       " 63: (100.0, 'drug_a', 'drug_a'),\n",
       " 64: (100.0, 'drug_a', 'drug_b'),\n",
       " 65: (100.0, 'drug_a', 'drug_c'),\n",
       " 66: (100.0, 'drug_b', 'drug_a'),\n",
       " 67: (100.0, 'drug_b', 'drug_b'),\n",
       " 68: (100.0, 'drug_b', 'drug_c'),\n",
       " 69: (100.0, 'drug_c', 'drug_a'),\n",
       " 70: (100.0, 'drug_c', 'drug_b'),\n",
       " 71: (100.0, 'drug_c', 'drug_c'),\n",
       " 72: (1000.0, 'drug_a', 'drug_a'),\n",
       " 73: (1000.0, 'drug_a', 'drug_b'),\n",
       " 74: (1000.0, 'drug_a', 'drug_c'),\n",
       " 75: (1000.0, 'drug_b', 'drug_a'),\n",
       " 76: (1000.0, 'drug_b', 'drug_b'),\n",
       " 77: (1000.0, 'drug_b', 'drug_c'),\n",
       " 78: (1000.0, 'drug_c', 'drug_a'),\n",
       " 79: (1000.0, 'drug_c', 'drug_b'),\n",
       " 80: (1000.0, 'drug_c', 'drug_c')}"
      ]
     },
     "execution_count": 100,
     "metadata": {},
     "output_type": "execute_result"
    }
   ],
   "source": [
    "pdata.perturbation_covariates_to_idx"
   ]
  },
  {
   "cell_type": "code",
   "execution_count": 111,
   "metadata": {},
   "outputs": [],
   "source": [
    "class CFSampler:\n",
    "    \"\"\"Data sampler for :class:`~cfp.data.data.PerturbationData`.\n",
    "\n",
    "    Parameters\n",
    "    ----------\n",
    "    data : PerturbationData\n",
    "        The data object to sample from.\n",
    "    batch_size : int\n",
    "        The batch size.\n",
    "    \"\"\"\n",
    "\n",
    "    def __init__(self, data: PerturbationData, batch_size: int = 64):\n",
    "        self.data = data\n",
    "        self.batch_size = batch_size\n",
    "        self.n_source_dists = data.n_controls\n",
    "        self.n_target_dists = data.n_perturbed\n",
    "\n",
    "        def _sample(rng: jax.Array) -> Any:\n",
    "            rng_1, rng_2, rng_3, rng_4 = jax.random.split(rng, 4)\n",
    "            source_dist_idx = jax.random.randint(rng_1, [1], 0, self.n_source_dists).item()\n",
    "            source_cells = self.data.cell_data[self.data.split_covariates_mask == source_dist_idx]\n",
    "            source_batch = jax.random.choice(rng_2, source_cells, (self.batch_size,), replace=True)\n",
    "            target_dist_idx = jax.random.randint(\n",
    "                rng_3, [1], 0, self.data.control_to_perturbation[source_dist_idx].shape[0]\n",
    "            ).item()\n",
    "            target_cells = self.data.cell_data[self.data.perturbation_covariates_mask == target_dist_idx]\n",
    "            target_batch = jax.random.choice(rng_4, target_cells, (self.batch_size,), replace=True)\n",
    "            condition_batch = jnp.tile(self.data.condition_data[target_dist_idx], (self.batch_size, 1, 1))\n",
    "\n",
    "            return {\n",
    "                \"src_lin\": source_batch,\n",
    "                \"tgt_lin\": target_batch,\n",
    "                \"src_condition\": condition_batch,\n",
    "            }\n",
    "\n",
    "        self.sample = _sample"
   ]
  },
  {
   "cell_type": "code",
   "execution_count": 112,
   "metadata": {},
   "outputs": [],
   "source": [
    "s = CFSampler(pdata, batch_size=64)"
   ]
  },
  {
   "cell_type": "code",
   "execution_count": 113,
   "metadata": {},
   "outputs": [
    {
     "name": "stdout",
     "output_type": "stream",
     "text": [
      "(1, 2, 6)\n"
     ]
    }
   ],
   "source": [
    "out = s.sample(jax.random.PRNGKey(42))"
   ]
  },
  {
   "cell_type": "code",
   "execution_count": 114,
   "metadata": {},
   "outputs": [
    {
     "data": {
      "text/plain": [
       "((64, 50), (64, 50), (64, 2, 6))"
      ]
     },
     "execution_count": 114,
     "metadata": {},
     "output_type": "execute_result"
    }
   ],
   "source": [
    "out[\"src_lin\"].shape, out[\"tgt_lin\"].shape, out[\"src_condition\"].shape"
   ]
  },
  {
   "cell_type": "markdown",
   "metadata": {},
   "source": [
    "Now with combinations of drugs"
   ]
  },
  {
   "cell_type": "code",
   "execution_count": 93,
   "metadata": {},
   "outputs": [],
   "source": [
    "control_covariates = [\"cell_type\"]\n",
    "control_data = (\"drug1\", \"Vehicle\")\n",
    "obs_perturbation_covariates = [(\"drug1\", \"drug\"), (\"drug2\", \"drug\"), (\"cell_type\", \"cell_type\")]\n",
    "uns_perturbation_covariates = [[\"drug1\", \"drug2\"]]"
   ]
  },
  {
   "cell_type": "code",
   "execution_count": 94,
   "metadata": {},
   "outputs": [
    {
     "name": "stderr",
     "output_type": "stream",
     "text": [
      "  0%|          | 0/3 [00:00<?, ?it/s]"
     ]
    },
    {
     "name": "stderr",
     "output_type": "stream",
     "text": [
      "  0%|          | 0/3 [00:00<?, ?it/s]\n"
     ]
    },
    {
     "ename": "TypeError",
     "evalue": "Value 'drug_a' with dtype <U6 is not a valid JAX array type. Only arrays of numeric types are supported by JAX.",
     "output_type": "error",
     "traceback": [
      "\u001b[0;31m---------------------------------------------------------------------------\u001b[0m",
      "\u001b[0;31mTypeError\u001b[0m                                 Traceback (most recent call last)",
      "File \u001b[0;32m~/miniforge3/envs/cfp/lib/python3.11/site-packages/jax/_src/dtypes.py:677\u001b[0m, in \u001b[0;36mdtype\u001b[0;34m(x, canonicalize)\u001b[0m\n\u001b[1;32m    676\u001b[0m \u001b[38;5;28;01mtry\u001b[39;00m:\n\u001b[0;32m--> 677\u001b[0m   dt \u001b[38;5;241m=\u001b[39m \u001b[43mnp\u001b[49m\u001b[38;5;241;43m.\u001b[39;49m\u001b[43mresult_type\u001b[49m\u001b[43m(\u001b[49m\u001b[43mx\u001b[49m\u001b[43m)\u001b[49m\n\u001b[1;32m    678\u001b[0m \u001b[38;5;28;01mexcept\u001b[39;00m \u001b[38;5;167;01mTypeError\u001b[39;00m \u001b[38;5;28;01mas\u001b[39;00m err:\n",
      "\u001b[0;31mTypeError\u001b[0m: data type 'drug_a' not understood",
      "\nThe above exception was the direct cause of the following exception:\n",
      "\u001b[0;31mTypeError\u001b[0m                                 Traceback (most recent call last)",
      "File \u001b[0;32m~/miniforge3/envs/cfp/lib/python3.11/site-packages/jax/_src/numpy/lax_numpy.py:3181\u001b[0m, in \u001b[0;36marray\u001b[0;34m(object, dtype, copy, order, ndmin)\u001b[0m\n\u001b[1;32m   3180\u001b[0m \u001b[38;5;28;01mtry\u001b[39;00m:\n\u001b[0;32m-> 3181\u001b[0m   dtype \u001b[38;5;241m=\u001b[39m \u001b[43mdtypes\u001b[49m\u001b[38;5;241;43m.\u001b[39;49m\u001b[43m_lattice_result_type\u001b[49m\u001b[43m(\u001b[49m\u001b[38;5;241;43m*\u001b[39;49m\u001b[43mleaves\u001b[49m\u001b[43m)\u001b[49m[\u001b[38;5;241m0\u001b[39m] \u001b[38;5;28;01mif\u001b[39;00m leaves \u001b[38;5;28;01melse\u001b[39;00m dtypes\u001b[38;5;241m.\u001b[39mfloat_\n\u001b[1;32m   3182\u001b[0m \u001b[38;5;28;01mexcept\u001b[39;00m \u001b[38;5;167;01mTypeError\u001b[39;00m:\n\u001b[1;32m   3183\u001b[0m   \u001b[38;5;66;03m# This happens if, e.g. one of the entries is a memoryview object.\u001b[39;00m\n\u001b[1;32m   3184\u001b[0m   \u001b[38;5;66;03m# This is rare, so we only handle it if the normal path fails.\u001b[39;00m\n",
      "File \u001b[0;32m~/miniforge3/envs/cfp/lib/python3.11/site-packages/jax/_src/dtypes.py:687\u001b[0m, in \u001b[0;36m_lattice_result_type\u001b[0;34m(*args)\u001b[0m\n\u001b[1;32m    686\u001b[0m \u001b[38;5;28;01mdef\u001b[39;00m \u001b[38;5;21m_lattice_result_type\u001b[39m(\u001b[38;5;241m*\u001b[39margs: Any) \u001b[38;5;241m-\u001b[39m\u001b[38;5;241m>\u001b[39m \u001b[38;5;28mtuple\u001b[39m[DType, \u001b[38;5;28mbool\u001b[39m]:\n\u001b[0;32m--> 687\u001b[0m   dtypes, weak_types \u001b[38;5;241m=\u001b[39m \u001b[38;5;28;43mzip\u001b[39;49m\u001b[43m(\u001b[49m\u001b[38;5;241;43m*\u001b[39;49m\u001b[43m(\u001b[49m\u001b[43m_dtype_and_weaktype\u001b[49m\u001b[43m(\u001b[49m\u001b[43marg\u001b[49m\u001b[43m)\u001b[49m\u001b[43m \u001b[49m\u001b[38;5;28;43;01mfor\u001b[39;49;00m\u001b[43m \u001b[49m\u001b[43marg\u001b[49m\u001b[43m \u001b[49m\u001b[38;5;129;43;01min\u001b[39;49;00m\u001b[43m \u001b[49m\u001b[43margs\u001b[49m\u001b[43m)\u001b[49m\u001b[43m)\u001b[49m\n\u001b[1;32m    688\u001b[0m   \u001b[38;5;28;01mif\u001b[39;00m \u001b[38;5;28mlen\u001b[39m(dtypes) \u001b[38;5;241m==\u001b[39m \u001b[38;5;241m1\u001b[39m:\n",
      "File \u001b[0;32m~/miniforge3/envs/cfp/lib/python3.11/site-packages/jax/_src/dtypes.py:687\u001b[0m, in \u001b[0;36m<genexpr>\u001b[0;34m(.0)\u001b[0m\n\u001b[1;32m    686\u001b[0m \u001b[38;5;28;01mdef\u001b[39;00m \u001b[38;5;21m_lattice_result_type\u001b[39m(\u001b[38;5;241m*\u001b[39margs: Any) \u001b[38;5;241m-\u001b[39m\u001b[38;5;241m>\u001b[39m \u001b[38;5;28mtuple\u001b[39m[DType, \u001b[38;5;28mbool\u001b[39m]:\n\u001b[0;32m--> 687\u001b[0m   dtypes, weak_types \u001b[38;5;241m=\u001b[39m \u001b[38;5;28mzip\u001b[39m(\u001b[38;5;241m*\u001b[39m(\u001b[43m_dtype_and_weaktype\u001b[49m\u001b[43m(\u001b[49m\u001b[43marg\u001b[49m\u001b[43m)\u001b[49m \u001b[38;5;28;01mfor\u001b[39;00m arg \u001b[38;5;129;01min\u001b[39;00m args))\n\u001b[1;32m    688\u001b[0m   \u001b[38;5;28;01mif\u001b[39;00m \u001b[38;5;28mlen\u001b[39m(dtypes) \u001b[38;5;241m==\u001b[39m \u001b[38;5;241m1\u001b[39m:\n",
      "File \u001b[0;32m~/miniforge3/envs/cfp/lib/python3.11/site-packages/jax/_src/dtypes.py:495\u001b[0m, in \u001b[0;36m_dtype_and_weaktype\u001b[0;34m(value)\u001b[0m\n\u001b[1;32m    494\u001b[0m \u001b[38;5;250m\u001b[39m\u001b[38;5;124;03m\"\"\"Return a (dtype, weak_type) tuple for the given input.\"\"\"\u001b[39;00m\n\u001b[0;32m--> 495\u001b[0m \u001b[38;5;28;01mreturn\u001b[39;00m \u001b[43mdtype\u001b[49m\u001b[43m(\u001b[49m\u001b[43mvalue\u001b[49m\u001b[43m)\u001b[49m, \u001b[38;5;28many\u001b[39m(value \u001b[38;5;129;01mis\u001b[39;00m typ \u001b[38;5;28;01mfor\u001b[39;00m typ \u001b[38;5;129;01min\u001b[39;00m _weak_types) \u001b[38;5;129;01mor\u001b[39;00m is_weakly_typed(value)\n",
      "File \u001b[0;32m~/miniforge3/envs/cfp/lib/python3.11/site-packages/jax/_src/dtypes.py:679\u001b[0m, in \u001b[0;36mdtype\u001b[0;34m(x, canonicalize)\u001b[0m\n\u001b[1;32m    678\u001b[0m   \u001b[38;5;28;01mexcept\u001b[39;00m \u001b[38;5;167;01mTypeError\u001b[39;00m \u001b[38;5;28;01mas\u001b[39;00m err:\n\u001b[0;32m--> 679\u001b[0m     \u001b[38;5;28;01mraise\u001b[39;00m \u001b[38;5;167;01mTypeError\u001b[39;00m(\u001b[38;5;124mf\u001b[39m\u001b[38;5;124m\"\u001b[39m\u001b[38;5;124mCannot determine dtype of \u001b[39m\u001b[38;5;132;01m{\u001b[39;00mx\u001b[38;5;132;01m}\u001b[39;00m\u001b[38;5;124m\"\u001b[39m) \u001b[38;5;28;01mfrom\u001b[39;00m \u001b[38;5;21;01merr\u001b[39;00m\n\u001b[1;32m    680\u001b[0m \u001b[38;5;28;01mif\u001b[39;00m dt \u001b[38;5;129;01mnot\u001b[39;00m \u001b[38;5;129;01min\u001b[39;00m _jax_dtype_set \u001b[38;5;129;01mand\u001b[39;00m \u001b[38;5;129;01mnot\u001b[39;00m issubdtype(dt, extended):\n",
      "\u001b[0;31mTypeError\u001b[0m: Cannot determine dtype of drug_a",
      "\nDuring handling of the above exception, another exception occurred:\n",
      "\u001b[0;31mTypeError\u001b[0m                                 Traceback (most recent call last)",
      "Cell \u001b[0;32mIn[94], line 1\u001b[0m\n\u001b[0;32m----> 1\u001b[0m pdata \u001b[38;5;241m=\u001b[39m \u001b[43mload_from_adata\u001b[49m\u001b[43m(\u001b[49m\u001b[43madata\u001b[49m\u001b[43m,\u001b[49m\u001b[43m \u001b[49m\u001b[43mcell_data\u001b[49m\u001b[38;5;241;43m=\u001b[39;49m\u001b[38;5;124;43m\"\u001b[39;49m\u001b[38;5;124;43mX\u001b[39;49m\u001b[38;5;124;43m\"\u001b[39;49m\u001b[43m,\u001b[49m\u001b[43m \u001b[49m\u001b[43mcontrol_data\u001b[49m\u001b[38;5;241;43m=\u001b[39;49m\u001b[43mcontrol_data\u001b[49m\u001b[43m,\u001b[49m\u001b[43m \u001b[49m\u001b[43msplit_covariates\u001b[49m\u001b[43m \u001b[49m\u001b[38;5;241;43m=\u001b[39;49m\u001b[43m \u001b[49m\u001b[43mcontrol_covariates\u001b[49m\u001b[43m,\u001b[49m\u001b[43m \u001b[49m\u001b[43mperturbation_covariates\u001b[49m\u001b[38;5;241;43m=\u001b[39;49m\u001b[43mperturbation_covariates\u001b[49m\u001b[43m,\u001b[49m\u001b[43m \u001b[49m\u001b[43mperturbation_covariate_combinations\u001b[49m\u001b[38;5;241;43m=\u001b[39;49m\u001b[43mperturbation_covariate_combinations\u001b[49m\u001b[43m)\u001b[49m\n",
      "Cell \u001b[0;32mIn[85], line 239\u001b[0m, in \u001b[0;36mload_from_adata\u001b[0;34m(adata, cell_data, control_data, split_covariates, perturbation_covariates, perturbation_covariate_combinations)\u001b[0m\n\u001b[1;32m    237\u001b[0m perturbation_covariates_to_idx[tgt_counter] \u001b[38;5;241m=\u001b[39m tgt_combination\n\u001b[1;32m    238\u001b[0m control_to_perturbation[src_counter] \u001b[38;5;241m=\u001b[39m tgt_counter\n\u001b[0;32m--> 239\u001b[0m embedding \u001b[38;5;241m=\u001b[39m \u001b[43m_get_perturbation_covariates\u001b[49m\u001b[43m(\u001b[49m\n\u001b[1;32m    240\u001b[0m \u001b[43m    \u001b[49m\u001b[43madata\u001b[49m\u001b[43m[\u001b[49m\u001b[43mmask\u001b[49m\u001b[43m]\u001b[49m\u001b[43m,\u001b[49m\u001b[43m \u001b[49m\u001b[43madata\u001b[49m\u001b[38;5;241;43m.\u001b[39;49m\u001b[43muns\u001b[49m\u001b[43m[\u001b[49m\u001b[43mUNS_KEY_CONDITIONS\u001b[49m\u001b[43m]\u001b[49m\u001b[43m,\u001b[49m\u001b[43m \u001b[49m\u001b[43mperturbation_covariates\u001b[49m\u001b[43m,\u001b[49m\u001b[43m \u001b[49m\u001b[43mperturbation_covariate_combinations\u001b[49m\n\u001b[1;32m    241\u001b[0m \u001b[43m\u001b[49m\u001b[43m)\u001b[49m\n\u001b[1;32m    242\u001b[0m condition_data\u001b[38;5;241m.\u001b[39mappend(embedding)\n\u001b[1;32m    243\u001b[0m tgt_counter \u001b[38;5;241m+\u001b[39m\u001b[38;5;241m=\u001b[39m \u001b[38;5;241m1\u001b[39m\n",
      "Cell \u001b[0;32mIn[85], line 134\u001b[0m, in \u001b[0;36m_get_perturbation_covariates\u001b[0;34m(adata, embedding_dict, perturbation_covariates, perturbation_covariate_combinations)\u001b[0m\n\u001b[1;32m    132\u001b[0m     combo_embeddings\u001b[38;5;241m.\u001b[39mappend(arr)\n\u001b[1;32m    133\u001b[0m \u001b[38;5;28;01melse\u001b[39;00m:\n\u001b[0;32m--> 134\u001b[0m     arr \u001b[38;5;241m=\u001b[39m \u001b[43mjnp\u001b[49m\u001b[38;5;241;43m.\u001b[39;49m\u001b[43masarray\u001b[49m\u001b[43m(\u001b[49m\u001b[43madata\u001b[49m\u001b[38;5;241;43m.\u001b[39;49m\u001b[43mobs\u001b[49m\u001b[43m[\u001b[49m\u001b[43mobs_col\u001b[49m\u001b[43m]\u001b[49m\u001b[38;5;241;43m.\u001b[39;49m\u001b[43mvalues\u001b[49m\u001b[43m[\u001b[49m\u001b[38;5;241;43m0\u001b[39;49m\u001b[43m]\u001b[49m\u001b[43m)\u001b[49m\n\u001b[1;32m    135\u001b[0m     arr \u001b[38;5;241m=\u001b[39m _check_shape(arr)\n\u001b[1;32m    136\u001b[0m     combo_embeddings\u001b[38;5;241m.\u001b[39mappend(arr)\n",
      "File \u001b[0;32m~/miniforge3/envs/cfp/lib/python3.11/site-packages/jax/_src/numpy/lax_numpy.py:3289\u001b[0m, in \u001b[0;36masarray\u001b[0;34m(a, dtype, order, copy)\u001b[0m\n\u001b[1;32m   3287\u001b[0m \u001b[38;5;28;01mif\u001b[39;00m dtype \u001b[38;5;129;01mis\u001b[39;00m \u001b[38;5;129;01mnot\u001b[39;00m \u001b[38;5;28;01mNone\u001b[39;00m:\n\u001b[1;32m   3288\u001b[0m   dtype \u001b[38;5;241m=\u001b[39m dtypes\u001b[38;5;241m.\u001b[39mcanonicalize_dtype(dtype, allow_extended_dtype\u001b[38;5;241m=\u001b[39m\u001b[38;5;28;01mTrue\u001b[39;00m)  \u001b[38;5;66;03m# type: ignore[assignment]\u001b[39;00m\n\u001b[0;32m-> 3289\u001b[0m \u001b[38;5;28;01mreturn\u001b[39;00m \u001b[43marray\u001b[49m\u001b[43m(\u001b[49m\u001b[43ma\u001b[49m\u001b[43m,\u001b[49m\u001b[43m \u001b[49m\u001b[43mdtype\u001b[49m\u001b[38;5;241;43m=\u001b[39;49m\u001b[43mdtype\u001b[49m\u001b[43m,\u001b[49m\u001b[43m \u001b[49m\u001b[43mcopy\u001b[49m\u001b[38;5;241;43m=\u001b[39;49m\u001b[38;5;28;43mbool\u001b[39;49m\u001b[43m(\u001b[49m\u001b[43mcopy\u001b[49m\u001b[43m)\u001b[49m\u001b[43m,\u001b[49m\u001b[43m \u001b[49m\u001b[43morder\u001b[49m\u001b[38;5;241;43m=\u001b[39;49m\u001b[43morder\u001b[49m\u001b[43m)\u001b[49m\n",
      "File \u001b[0;32m~/miniforge3/envs/cfp/lib/python3.11/site-packages/jax/_src/numpy/lax_numpy.py:3186\u001b[0m, in \u001b[0;36marray\u001b[0;34m(object, dtype, copy, order, ndmin)\u001b[0m\n\u001b[1;32m   3182\u001b[0m   \u001b[38;5;28;01mexcept\u001b[39;00m \u001b[38;5;167;01mTypeError\u001b[39;00m:\n\u001b[1;32m   3183\u001b[0m     \u001b[38;5;66;03m# This happens if, e.g. one of the entries is a memoryview object.\u001b[39;00m\n\u001b[1;32m   3184\u001b[0m     \u001b[38;5;66;03m# This is rare, so we only handle it if the normal path fails.\u001b[39;00m\n\u001b[1;32m   3185\u001b[0m     leaves \u001b[38;5;241m=\u001b[39m [_convert_to_array_if_dtype_fails(leaf) \u001b[38;5;28;01mfor\u001b[39;00m leaf \u001b[38;5;129;01min\u001b[39;00m leaves]\n\u001b[0;32m-> 3186\u001b[0m     dtype \u001b[38;5;241m=\u001b[39m \u001b[43mdtypes\u001b[49m\u001b[38;5;241;43m.\u001b[39;49m\u001b[43m_lattice_result_type\u001b[49m\u001b[43m(\u001b[49m\u001b[38;5;241;43m*\u001b[39;49m\u001b[43mleaves\u001b[49m\u001b[43m)\u001b[49m[\u001b[38;5;241m0\u001b[39m]\n\u001b[1;32m   3188\u001b[0m \u001b[38;5;28;01mif\u001b[39;00m \u001b[38;5;129;01mnot\u001b[39;00m weak_type:\n\u001b[1;32m   3189\u001b[0m   dtype \u001b[38;5;241m=\u001b[39m dtypes\u001b[38;5;241m.\u001b[39mcanonicalize_dtype(dtype, allow_extended_dtype\u001b[38;5;241m=\u001b[39m\u001b[38;5;28;01mTrue\u001b[39;00m)  \u001b[38;5;66;03m# type: ignore[assignment]\u001b[39;00m\n",
      "File \u001b[0;32m~/miniforge3/envs/cfp/lib/python3.11/site-packages/jax/_src/dtypes.py:687\u001b[0m, in \u001b[0;36m_lattice_result_type\u001b[0;34m(*args)\u001b[0m\n\u001b[1;32m    686\u001b[0m \u001b[38;5;28;01mdef\u001b[39;00m \u001b[38;5;21m_lattice_result_type\u001b[39m(\u001b[38;5;241m*\u001b[39margs: Any) \u001b[38;5;241m-\u001b[39m\u001b[38;5;241m>\u001b[39m \u001b[38;5;28mtuple\u001b[39m[DType, \u001b[38;5;28mbool\u001b[39m]:\n\u001b[0;32m--> 687\u001b[0m   dtypes, weak_types \u001b[38;5;241m=\u001b[39m \u001b[38;5;28;43mzip\u001b[39;49m\u001b[43m(\u001b[49m\u001b[38;5;241;43m*\u001b[39;49m\u001b[43m(\u001b[49m\u001b[43m_dtype_and_weaktype\u001b[49m\u001b[43m(\u001b[49m\u001b[43marg\u001b[49m\u001b[43m)\u001b[49m\u001b[43m \u001b[49m\u001b[38;5;28;43;01mfor\u001b[39;49;00m\u001b[43m \u001b[49m\u001b[43marg\u001b[49m\u001b[43m \u001b[49m\u001b[38;5;129;43;01min\u001b[39;49;00m\u001b[43m \u001b[49m\u001b[43margs\u001b[49m\u001b[43m)\u001b[49m\u001b[43m)\u001b[49m\n\u001b[1;32m    688\u001b[0m   \u001b[38;5;28;01mif\u001b[39;00m \u001b[38;5;28mlen\u001b[39m(dtypes) \u001b[38;5;241m==\u001b[39m \u001b[38;5;241m1\u001b[39m:\n\u001b[1;32m    689\u001b[0m     out_dtype \u001b[38;5;241m=\u001b[39m dtypes[\u001b[38;5;241m0\u001b[39m]\n",
      "File \u001b[0;32m~/miniforge3/envs/cfp/lib/python3.11/site-packages/jax/_src/dtypes.py:687\u001b[0m, in \u001b[0;36m<genexpr>\u001b[0;34m(.0)\u001b[0m\n\u001b[1;32m    686\u001b[0m \u001b[38;5;28;01mdef\u001b[39;00m \u001b[38;5;21m_lattice_result_type\u001b[39m(\u001b[38;5;241m*\u001b[39margs: Any) \u001b[38;5;241m-\u001b[39m\u001b[38;5;241m>\u001b[39m \u001b[38;5;28mtuple\u001b[39m[DType, \u001b[38;5;28mbool\u001b[39m]:\n\u001b[0;32m--> 687\u001b[0m   dtypes, weak_types \u001b[38;5;241m=\u001b[39m \u001b[38;5;28mzip\u001b[39m(\u001b[38;5;241m*\u001b[39m(\u001b[43m_dtype_and_weaktype\u001b[49m\u001b[43m(\u001b[49m\u001b[43marg\u001b[49m\u001b[43m)\u001b[49m \u001b[38;5;28;01mfor\u001b[39;00m arg \u001b[38;5;129;01min\u001b[39;00m args))\n\u001b[1;32m    688\u001b[0m   \u001b[38;5;28;01mif\u001b[39;00m \u001b[38;5;28mlen\u001b[39m(dtypes) \u001b[38;5;241m==\u001b[39m \u001b[38;5;241m1\u001b[39m:\n\u001b[1;32m    689\u001b[0m     out_dtype \u001b[38;5;241m=\u001b[39m dtypes[\u001b[38;5;241m0\u001b[39m]\n",
      "File \u001b[0;32m~/miniforge3/envs/cfp/lib/python3.11/site-packages/jax/_src/dtypes.py:495\u001b[0m, in \u001b[0;36m_dtype_and_weaktype\u001b[0;34m(value)\u001b[0m\n\u001b[1;32m    493\u001b[0m \u001b[38;5;28;01mdef\u001b[39;00m \u001b[38;5;21m_dtype_and_weaktype\u001b[39m(value: Any) \u001b[38;5;241m-\u001b[39m\u001b[38;5;241m>\u001b[39m \u001b[38;5;28mtuple\u001b[39m[DType, \u001b[38;5;28mbool\u001b[39m]:\n\u001b[1;32m    494\u001b[0m \u001b[38;5;250m  \u001b[39m\u001b[38;5;124;03m\"\"\"Return a (dtype, weak_type) tuple for the given input.\"\"\"\u001b[39;00m\n\u001b[0;32m--> 495\u001b[0m   \u001b[38;5;28;01mreturn\u001b[39;00m \u001b[43mdtype\u001b[49m\u001b[43m(\u001b[49m\u001b[43mvalue\u001b[49m\u001b[43m)\u001b[49m, \u001b[38;5;28many\u001b[39m(value \u001b[38;5;129;01mis\u001b[39;00m typ \u001b[38;5;28;01mfor\u001b[39;00m typ \u001b[38;5;129;01min\u001b[39;00m _weak_types) \u001b[38;5;129;01mor\u001b[39;00m is_weakly_typed(value)\n",
      "File \u001b[0;32m~/miniforge3/envs/cfp/lib/python3.11/site-packages/jax/_src/dtypes.py:681\u001b[0m, in \u001b[0;36mdtype\u001b[0;34m(x, canonicalize)\u001b[0m\n\u001b[1;32m    679\u001b[0m     \u001b[38;5;28;01mraise\u001b[39;00m \u001b[38;5;167;01mTypeError\u001b[39;00m(\u001b[38;5;124mf\u001b[39m\u001b[38;5;124m\"\u001b[39m\u001b[38;5;124mCannot determine dtype of \u001b[39m\u001b[38;5;132;01m{\u001b[39;00mx\u001b[38;5;132;01m}\u001b[39;00m\u001b[38;5;124m\"\u001b[39m) \u001b[38;5;28;01mfrom\u001b[39;00m \u001b[38;5;21;01merr\u001b[39;00m\n\u001b[1;32m    680\u001b[0m \u001b[38;5;28;01mif\u001b[39;00m dt \u001b[38;5;129;01mnot\u001b[39;00m \u001b[38;5;129;01min\u001b[39;00m _jax_dtype_set \u001b[38;5;129;01mand\u001b[39;00m \u001b[38;5;129;01mnot\u001b[39;00m issubdtype(dt, extended):\n\u001b[0;32m--> 681\u001b[0m   \u001b[38;5;28;01mraise\u001b[39;00m \u001b[38;5;167;01mTypeError\u001b[39;00m(\u001b[38;5;124mf\u001b[39m\u001b[38;5;124m\"\u001b[39m\u001b[38;5;124mValue \u001b[39m\u001b[38;5;124m'\u001b[39m\u001b[38;5;132;01m{\u001b[39;00mx\u001b[38;5;132;01m}\u001b[39;00m\u001b[38;5;124m'\u001b[39m\u001b[38;5;124m with dtype \u001b[39m\u001b[38;5;132;01m{\u001b[39;00mdt\u001b[38;5;132;01m}\u001b[39;00m\u001b[38;5;124m is not a valid JAX array \u001b[39m\u001b[38;5;124m\"\u001b[39m\n\u001b[1;32m    682\u001b[0m                   \u001b[38;5;124m\"\u001b[39m\u001b[38;5;124mtype. Only arrays of numeric types are supported by JAX.\u001b[39m\u001b[38;5;124m\"\u001b[39m)\n\u001b[1;32m    683\u001b[0m \u001b[38;5;66;03m# TODO(jakevdp): fix return type annotation and remove this ignore.\u001b[39;00m\n\u001b[1;32m    684\u001b[0m \u001b[38;5;28;01mreturn\u001b[39;00m canonicalize_dtype(dt, allow_extended_dtype\u001b[38;5;241m=\u001b[39m\u001b[38;5;28;01mTrue\u001b[39;00m) \u001b[38;5;28;01mif\u001b[39;00m canonicalize \u001b[38;5;28;01melse\u001b[39;00m dt\n",
      "\u001b[0;31mTypeError\u001b[0m: Value 'drug_a' with dtype <U6 is not a valid JAX array type. Only arrays of numeric types are supported by JAX."
     ]
    }
   ],
   "source": [
    "pdata = load_from_adata(\n",
    "    adata,\n",
    "    cell_data=\"X\",\n",
    "    control_data=control_data,\n",
    "    split_covariates=control_covariates,\n",
    "    obs_perturbation_covariates=obs_perturbation_covariates,\n",
    "    uns_perturbation_covariates=uns_perturbation_covariates,\n",
    ")"
   ]
  },
  {
   "cell_type": "markdown",
   "metadata": {},
   "source": [
    "pdata = load_from_adata(adata, cell_data=\"X\", control_data=control_data, split_covariates = control_covariates, perturbation_covariates=perturbation_covariates, perturbation_covariate_combinations=perturbation_covariate_combinations)"
   ]
  }
 ],
 "metadata": {
  "kernelspec": {
   "display_name": "cfp",
   "language": "python",
   "name": "python3"
  },
  "language_info": {
   "codemirror_mode": {
    "name": "ipython",
    "version": 3
   },
   "file_extension": ".py",
   "mimetype": "text/x-python",
   "name": "python",
   "nbconvert_exporter": "python",
   "pygments_lexer": "ipython3",
   "version": "3.11.9"
  }
 },
 "nbformat": 4,
 "nbformat_minor": 2
}
